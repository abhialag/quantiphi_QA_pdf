{
 "cells": [
  {
   "cell_type": "code",
   "execution_count": 7,
   "id": "bed01631",
   "metadata": {},
   "outputs": [],
   "source": [
    "import logging\n",
    "import os\n",
    "import shutil\n",
    "import subprocess\n",
    "import argparse\n",
    "\n",
    "import torch\n",
    "from flask import Flask, jsonify, request\n",
    "from langchain.chains import RetrievalQA\n",
    "from langchain.embeddings import HuggingFaceInstructEmbeddings,HuggingFaceEmbeddings\n",
    "\n",
    "from run_inference import load_model,retrieval_qa_pipeline\n",
    "from prompt_template_utils import get_prompt_template\n",
    "\n",
    "# from langchain.callbacks.streaming_stdout import StreamingStdOutCallbackHandler\n",
    "from langchain.vectorstores import Chroma, FAISS\n",
    "from werkzeug.utils import secure_filename\n",
    "\n",
    "from constants import CHROMA_SETTINGS, EMBEDDING_MODEL_NAME, PERSIST_DIRECTORY, MODEL_ID, MODEL_BASENAME"
   ]
  },
  {
   "cell_type": "code",
   "execution_count": 9,
   "id": "41419e06",
   "metadata": {},
   "outputs": [
    {
     "name": "stdout",
     "output_type": "stream",
     "text": [
      "../VECTOR_DBS\n"
     ]
    }
   ],
   "source": [
    "print(PERSIST_DIRECTORY)"
   ]
  },
  {
   "cell_type": "code",
   "execution_count": 10,
   "id": "646aaca6",
   "metadata": {},
   "outputs": [
    {
     "name": "stdout",
     "output_type": "stream",
     "text": [
      "Display Source Documents set to: True\n",
      "Display Use History set to: True\n"
     ]
    }
   ],
   "source": [
    "## setting up the args - these can be made runtime args\n",
    "device_type='cpu'\n",
    "show_sources=True\n",
    "use_history=True\n",
    "save_qa=True\n",
    "promptTemplate_type=\"llama\"\n",
    "\n",
    "logging.info(f\"Display Source Documents set to: {show_sources}\")\n",
    "print(f\"Display Source Documents set to: {show_sources}\")\n",
    "logging.info(f\"Display Use History set to: {use_history}\")\n",
    "print(f\"Display Use History set to: {use_history}\")\n",
    "logging.info(f\"Display promptTemplate_type set to: {promptTemplate_type}\")\n",
    "logging.info(f\"Display Save QA set to: {save_qa}\")\n"
   ]
  },
  {
   "cell_type": "code",
   "execution_count": 11,
   "id": "c9811f22",
   "metadata": {},
   "outputs": [
    {
     "name": "stdout",
     "output_type": "stream",
     "text": [
      "load INSTRUCTOR_Transformer\n",
      "max_seq_length  512\n",
      "Loading Model: TheBloke/Llama-2-7b-Chat-GGUF, on: cpu\n"
     ]
    },
    {
     "name": "stderr",
     "output_type": "stream",
     "text": [
      "AVX = 1 | AVX2 = 1 | AVX512 = 0 | AVX512_VBMI = 0 | AVX512_VNNI = 0 | FMA = 1 | NEON = 0 | ARM_FMA = 0 | F16C = 1 | FP16_VA = 0 | WASM_SIMD = 0 | BLAS = 0 | SSE3 = 1 | SSSE3 = 0 | VSX = 0 | \n"
     ]
    }
   ],
   "source": [
    "QA = retrieval_qa_pipeline(use_history, promptTemplate_type=promptTemplate_type,device_type=device_type)"
   ]
  },
  {
   "cell_type": "code",
   "execution_count": 12,
   "id": "9665e87d",
   "metadata": {},
   "outputs": [],
   "source": [
    "app = Flask(__name__)"
   ]
  },
  {
   "cell_type": "code",
   "execution_count": 13,
   "id": "98e0bda1",
   "metadata": {},
   "outputs": [],
   "source": [
    "@app.route(\"/api/prompt_route\", methods=[\"GET\", \"POST\"])\n",
    "def prompt_route():\n",
    "    global QA\n",
    "    user_prompt = request.form.get(\"user_prompt\")\n",
    "    #user_prompt = ' Magnesium has an atomic number of 12. Which of the following statements is true of a neutral magnesium atom?'\n",
    "    print(f'User Prompt: {user_prompt}')\n",
    "    if user_prompt:\n",
    "        #print(f'User Prompt: {user_prompt}')\n",
    "        # Get the answer from the chain\n",
    "        res = QA(user_prompt)\n",
    "        answer, docs = res[\"result\"], res[\"source_documents\"]\n",
    "\n",
    "        prompt_response_dict = {\n",
    "            \"Prompt\": user_prompt,\n",
    "            \"Answer\": answer,\n",
    "        }\n",
    "        \n",
    "        print(answer)\n",
    "        \n",
    "        prompt_response_dict[\"Sources\"] = []\n",
    "        for document in docs:\n",
    "            prompt_response_dict[\"Sources\"].append(\n",
    "                (os.path.basename(str(document.metadata[\"source\"])), str(document.page_content))\n",
    "            )\n",
    "\n",
    "        return jsonify(prompt_response_dict), 200\n",
    "    else:\n",
    "        return \"No user prompt received\", 400"
   ]
  },
  {
   "cell_type": "code",
   "execution_count": null,
   "id": "655c4cab",
   "metadata": {},
   "outputs": [],
   "source": [
    "if __name__ == \"__main__\":\n",
    "    parser = argparse.ArgumentParser()\n",
    "    parser.add_argument(\"--port\", type=int, default=5110, help=\"Port to run the API on. Defaults to 5110.\")\n",
    "    parser.add_argument(\n",
    "        \"--host\",\n",
    "        type=str,\n",
    "        default=\"127.0.0.1\",\n",
    "        help=\"Host to run the UI on. Defaults to 127.0.0.1. \"\n",
    "        \"Set to 0.0.0.0 to make the UI externally \"\n",
    "        \"accessible from other devices.\",\n",
    "    )\n",
    "    args = parser.parse_args()\n",
    "\n",
    "    app.run(debug=False, host=args.host, port=args.port)\n"
   ]
  },
  {
   "cell_type": "code",
   "execution_count": 14,
   "id": "dfa81b26",
   "metadata": {},
   "outputs": [
    {
     "name": "stdout",
     "output_type": "stream",
     "text": [
      " * Serving Flask app '__main__'\n",
      " * Debug mode: off\n"
     ]
    },
    {
     "name": "stderr",
     "output_type": "stream",
     "text": [
      "INFO:werkzeug:\u001b[31m\u001b[1mWARNING: This is a development server. Do not use it in a production deployment. Use a production WSGI server instead.\u001b[0m\n",
      " * Running on http://127.0.0.1:5110\n",
      "INFO:werkzeug:\u001b[33mPress CTRL+C to quit\u001b[0m\n"
     ]
    }
   ],
   "source": [
    "host = '127.0.0.1'\n",
    "port='5110'\n",
    "app.run(debug=False, host=host, port=port)"
   ]
  },
  {
   "cell_type": "code",
   "execution_count": null,
   "id": "7835a91e",
   "metadata": {},
   "outputs": [],
   "source": []
  }
 ],
 "metadata": {
  "kernelspec": {
   "display_name": "Python 3 (ipykernel)",
   "language": "python",
   "name": "python3"
  },
  "language_info": {
   "codemirror_mode": {
    "name": "ipython",
    "version": 3
   },
   "file_extension": ".py",
   "mimetype": "text/x-python",
   "name": "python",
   "nbconvert_exporter": "python",
   "pygments_lexer": "ipython3",
   "version": "3.10.9"
  }
 },
 "nbformat": 4,
 "nbformat_minor": 5
}
