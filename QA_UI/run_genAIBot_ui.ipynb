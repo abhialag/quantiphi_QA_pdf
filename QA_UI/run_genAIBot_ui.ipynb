{
 "cells": [
  {
   "cell_type": "code",
   "execution_count": 1,
   "id": "25643631",
   "metadata": {},
   "outputs": [
    {
     "ename": "NameError",
     "evalue": "name '__file__' is not defined",
     "output_type": "error",
     "traceback": [
      "\u001b[1;31m---------------------------------------------------------------------------\u001b[0m",
      "\u001b[1;31mNameError\u001b[0m                                 Traceback (most recent call last)",
      "Cell \u001b[1;32mIn[1], line 10\u001b[0m\n\u001b[0;32m      7\u001b[0m \u001b[38;5;28;01mfrom\u001b[39;00m \u001b[38;5;21;01mflask\u001b[39;00m \u001b[38;5;28;01mimport\u001b[39;00m Flask, render_template, request\n\u001b[0;32m      8\u001b[0m \u001b[38;5;28;01mfrom\u001b[39;00m \u001b[38;5;21;01mwerkzeug\u001b[39;00m\u001b[38;5;21;01m.\u001b[39;00m\u001b[38;5;21;01mutils\u001b[39;00m \u001b[38;5;28;01mimport\u001b[39;00m secure_filename\n\u001b[1;32m---> 10\u001b[0m sys\u001b[38;5;241m.\u001b[39mpath\u001b[38;5;241m.\u001b[39mappend(os\u001b[38;5;241m.\u001b[39mpath\u001b[38;5;241m.\u001b[39mjoin(os\u001b[38;5;241m.\u001b[39mpath\u001b[38;5;241m.\u001b[39mdirname(\u001b[38;5;18;43m__file__\u001b[39;49m), \u001b[38;5;124m\"\u001b[39m\u001b[38;5;124m..\u001b[39m\u001b[38;5;124m\"\u001b[39m))\n",
      "\u001b[1;31mNameError\u001b[0m: name '__file__' is not defined"
     ]
    }
   ],
   "source": [
    "import argparse\n",
    "import os\n",
    "import sys\n",
    "import tempfile\n",
    "\n",
    "import requests\n",
    "from flask import Flask, render_template, request\n",
    "from werkzeug.utils import secure_filename\n",
    "\n",
    "# sys.path.append(os.path.join(os.path.dirname(__file__), \"..\"))\n",
    "\n"
   ]
  },
  {
   "cell_type": "code",
   "execution_count": 2,
   "id": "3233ef45",
   "metadata": {},
   "outputs": [],
   "source": [
    "app = Flask(__name__)\n",
    "\n",
    "API_HOST = \"http://localhost:5110/api\""
   ]
  },
  {
   "cell_type": "code",
   "execution_count": 3,
   "id": "1e1836cc",
   "metadata": {},
   "outputs": [],
   "source": [
    "# PAGES #\n",
    "@app.route(\"/\", methods=[\"GET\", \"POST\"])\n",
    "def home_page():\n",
    "    if request.method == \"POST\":\n",
    "        if \"user_prompt\" in request.form:\n",
    "            user_prompt = request.form[\"user_prompt\"]\n",
    "            print(f\"User Prompt: {user_prompt}\")\n",
    "\n",
    "            main_prompt_url = f\"{API_HOST}/prompt_route\"\n",
    "            response = requests.post(main_prompt_url, data={\"user_prompt\": user_prompt})\n",
    "            print(response.status_code)  # print HTTP response status code for debugging\n",
    "            if response.status_code == 200:\n",
    "                # print(response.json())  # Print the JSON data from the response\n",
    "                return render_template(\"home.html\", show_response_modal=True, response_dict=response.json())\n",
    "\n",
    "    # Display the form for GET request\n",
    "    return render_template(\n",
    "        \"home.html\",\n",
    "        show_response_modal=False,\n",
    "        response_dict={\"Prompt\": \"None\", \"Answer\": \"None\", \"Sources\": [(\"ewf\", \"wef\")]},\n",
    "    )"
   ]
  },
  {
   "cell_type": "code",
   "execution_count": null,
   "id": "104bbf34",
   "metadata": {},
   "outputs": [],
   "source": [
    "if __name__ == \"__main__\":\n",
    "    parser = argparse.ArgumentParser()\n",
    "    parser.add_argument(\"--port\", type=int, default=5111, help=\"Port to run the UI on. Defaults to 5111.\")\n",
    "    parser.add_argument(\n",
    "        \"--host\",\n",
    "        type=str,\n",
    "        default=\"127.0.0.1\",\n",
    "        help=\"Host to run the UI on. Defaults to 127.0.0.1. \"\n",
    "        \"Set to 0.0.0.0 to make the UI externally \"\n",
    "        \"accessible from other devices.\",\n",
    "    )\n",
    "    args = parser.parse_args()\n",
    "    app.run(debug=False, host=args.host, port=args.port)"
   ]
  },
  {
   "cell_type": "code",
   "execution_count": null,
   "id": "f269356e",
   "metadata": {},
   "outputs": [
    {
     "name": "stdout",
     "output_type": "stream",
     "text": [
      " * Serving Flask app '__main__'\n",
      " * Debug mode: off\n"
     ]
    },
    {
     "name": "stderr",
     "output_type": "stream",
     "text": [
      "WARNING: This is a development server. Do not use it in a production deployment. Use a production WSGI server instead.\n",
      " * Running on http://127.0.0.1:5111\n",
      "Press CTRL+C to quit\n"
     ]
    }
   ],
   "source": [
    "host = '127.0.0.1'\n",
    "port='5111'\n",
    "app.run(debug=False, host=host, port=port)"
   ]
  },
  {
   "cell_type": "code",
   "execution_count": null,
   "id": "6d11d622",
   "metadata": {},
   "outputs": [],
   "source": []
  }
 ],
 "metadata": {
  "kernelspec": {
   "display_name": "Python 3 (ipykernel)",
   "language": "python",
   "name": "python3"
  },
  "language_info": {
   "codemirror_mode": {
    "name": "ipython",
    "version": 3
   },
   "file_extension": ".py",
   "mimetype": "text/x-python",
   "name": "python",
   "nbconvert_exporter": "python",
   "pygments_lexer": "ipython3",
   "version": "3.10.9"
  }
 },
 "nbformat": 4,
 "nbformat_minor": 5
}
